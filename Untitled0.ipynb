{
  "nbformat": 4,
  "nbformat_minor": 0,
  "metadata": {
    "colab": {
      "name": "Untitled0.ipynb",
      "provenance": [],
      "collapsed_sections": []
    },
    "kernelspec": {
      "name": "python3",
      "display_name": "Python 3"
    },
    "language_info": {
      "name": "python"
    },
    "accelerator": "GPU"
  },
  "cells": [
    {
      "cell_type": "code",
      "execution_count": null,
      "metadata": {
        "colab": {
          "base_uri": "https://localhost:8080/"
        },
        "id": "qJ80zoThgmCC",
        "outputId": "e1fcd92d-2c28-46ff-bf08-1245da528a80"
      },
      "outputs": [
        {
          "output_type": "stream",
          "name": "stdout",
          "text": [
            "Mounted at /content/gdrive/\n"
          ]
        }
      ],
      "source": [
        "from google.colab import drive\n",
        "import os\n",
        "import sys\n",
        "\n",
        "# drive.mount('/content/gdrive')\n",
        "drive.mount(\"/content/gdrive/\", force_remount=True)\n",
        "\n",
        "root_dir = \"gdrive/My Drive/Colab Notebooks\"\n",
        "\n",
        "sys.path.append(root_dir)"
      ]
    },
    {
      "cell_type": "code",
      "source": [
        "!git clone https://github.com/ZHKKKe/DualStudent.git"
      ],
      "metadata": {
        "colab": {
          "base_uri": "https://localhost:8080/"
        },
        "id": "yFxsldl4gnIU",
        "outputId": "88af1f6d-396c-4172-ebd7-c932a4bb526f"
      },
      "execution_count": null,
      "outputs": [
        {
          "output_type": "stream",
          "name": "stdout",
          "text": [
            "fatal: destination path 'DualStudent' already exists and is not an empty directory.\n"
          ]
        }
      ]
    },
    {
      "cell_type": "code",
      "source": [
        "%cd DualStudent"
      ],
      "metadata": {
        "colab": {
          "base_uri": "https://localhost:8080/"
        },
        "id": "mNWht1oUg4-Z",
        "outputId": "558cc778-3bb0-41af-a4ef-341798edae2b"
      },
      "execution_count": null,
      "outputs": [
        {
          "output_type": "stream",
          "name": "stdout",
          "text": [
            "/content/DualStudent\n"
          ]
        }
      ]
    },
    {
      "cell_type": "code",
      "source": [
        "!ls"
      ],
      "metadata": {
        "colab": {
          "base_uri": "https://localhost:8080/"
        },
        "id": "AD2UG2T1hgi0",
        "outputId": "542aa236-74bd-4d3b-a703-290c61bea25b"
      },
      "execution_count": null,
      "outputs": [
        {
          "output_type": "stream",
          "name": "stdout",
          "text": [
            "checkpoints\t multiple_student.py  __pycache__  scripts  third_party\n",
            "dual_student.py  poster.png\t      README.md    src\n"
          ]
        }
      ]
    },
    {
      "cell_type": "code",
      "source": [
        "!third_party/data-local/bin/prepare_mnist.sh"
      ],
      "metadata": {
        "colab": {
          "base_uri": "https://localhost:8080/"
        },
        "id": "ArCD1bo-hKyx",
        "outputId": "f766d6d2-8ee3-4242-c114-8d1ea811ba6f"
      },
      "execution_count": null,
      "outputs": [
        {
          "output_type": "stream",
          "name": "stdout",
          "text": [
            "Downloading and unpacking MNIST\n",
            "100% 60000/60000 [00:19<00:00, 3086.39it/s]\n",
            "100% 10000/10000 [00:02<00:00, 3426.70it/s]\n",
            "Done\n"
          ]
        }
      ]
    },
    {
      "cell_type": "code",
      "source": [
        "!python -m scripts.ds_usps_mnist_da.py"
      ],
      "metadata": {
        "colab": {
          "base_uri": "https://localhost:8080/"
        },
        "id": "aUeskJDUiUNh",
        "outputId": "410a7123-83a2-467f-a884-a7d9a3a46eb9"
      },
      "execution_count": null,
      "outputs": [
        {
          "output_type": "stream",
          "name": "stdout",
          "text": [
            "/usr/bin/python3: Error while finding module specification for 'scripts.ds_usps_mnist_da.py' (ModuleNotFoundError: __path__ attribute not found on 'scripts.ds_usps_mnist_da' while trying to find 'scripts.ds_usps_mnist_da.py')\n"
          ]
        }
      ]
    },
    {
      "cell_type": "code",
      "source": [
        ""
      ],
      "metadata": {
        "id": "0oPMA9aqjqZN"
      },
      "execution_count": null,
      "outputs": []
    }
  ]
}